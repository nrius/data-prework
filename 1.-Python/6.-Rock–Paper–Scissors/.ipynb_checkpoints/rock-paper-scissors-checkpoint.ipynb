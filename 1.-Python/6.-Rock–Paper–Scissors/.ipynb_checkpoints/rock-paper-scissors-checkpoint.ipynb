{
 "cells": [
  {
   "cell_type": "markdown",
   "metadata": {},
   "source": [
    "<img src=\"https://bit.ly/2VnXWr2\" width=\"100\" align=\"left\">"
   ]
  },
  {
   "cell_type": "markdown",
   "metadata": {},
   "source": [
    "# Rock, Paper & Scissors\n",
    "\n",
    "Let's play the famous game against our computer. You can check the rules [here](https://en.wikipedia.org/wiki/Rock%E2%80%93paper%E2%80%93scissors). \n",
    "\n",
    "## Task\n",
    "Create a program that imitates the playability of the well known game of rock, paper, scissors. Follow the guidelines provided.\n",
    "\n",
    "## Tools\n",
    "1. Loop: **for/while**\n",
    "2. Functions: **input(), print()...**\n",
    "3. Conditional statements: **if, elif, else**\n",
    "4. Definition of functions. Modular programming\n",
    "5. Import modules\n",
    "\n",
    "**To solve this challenge, the use of functions is recommended.**\n",
    "\n",
    "#### 1. Import the choice function of the random module."
   ]
  },
  {
   "cell_type": "code",
   "execution_count": 1,
   "metadata": {},
   "outputs": [],
   "source": [
    "from random import choice"
   ]
  },
  {
   "cell_type": "markdown",
   "metadata": {},
   "source": [
    "#### 2. Create a list that includes the 3 possible gesture options of the game: 'rock', 'paper' or 'scissors'. Store the list in a variable called `gestures`."
   ]
  },
  {
   "cell_type": "code",
   "execution_count": 2,
   "metadata": {},
   "outputs": [],
   "source": [
    "gestures=['rock','paper','scissors']"
   ]
  },
  {
   "cell_type": "markdown",
   "metadata": {},
   "source": [
    "#### 3. Create a variable called `n_rounds` to store the maximum number of rounds to play in a game. \n",
    "Remember that the number of rounds must be odd: 1, 3, 5, ..."
   ]
  },
  {
   "cell_type": "code",
   "execution_count": 3,
   "metadata": {},
   "outputs": [],
   "source": [
    "n_rounds=3"
   ]
  },
  {
   "cell_type": "markdown",
   "metadata": {},
   "source": [
    "#### 4. Create a variable called `rounds_to_win` to store the number of rounds that a player must win to win the game.\n",
    "**Hint**: the value stored in `rounds_to_win` depends on the value of `n_rounds`. "
   ]
  },
  {
   "cell_type": "code",
   "execution_count": 4,
   "metadata": {},
   "outputs": [],
   "source": [
    "rounds_to_win=(n_rounds +1)/2"
   ]
  },
  {
   "cell_type": "markdown",
   "metadata": {},
   "source": [
    "#### 5. Create two variables to store the number of rounds that the computer and the player have won. Call these variables `cpu_score` and `player_score`."
   ]
  },
  {
   "cell_type": "code",
   "execution_count": 5,
   "metadata": {},
   "outputs": [],
   "source": [
    "cpu_score=0\n",
    "player_score=0"
   ]
  },
  {
   "cell_type": "markdown",
   "metadata": {},
   "source": [
    "#### 6. Define a function that randomly returns one of the 3 gesture options.\n",
    "You will use this function to simulate the gesture choice of the computer. "
   ]
  },
  {
   "cell_type": "code",
   "execution_count": 6,
   "metadata": {},
   "outputs": [],
   "source": [
    "def cpu_move(gestures_list):\n",
    "    \"\"\"get a random move for the cpu\"\"\"\n",
    "    cpu_gest=choice(gestures_list)\n",
    "    return cpu_gest\n",
    "\n"
   ]
  },
  {
   "cell_type": "markdown",
   "metadata": {},
   "source": [
    "#### 7. Define a function that asks the player which is the gesture he or she wants to show: 'rock', 'paper' or 'scissors'.\n",
    "The player should only be allowed to choose one of the 3 gesture options. If the player's choice is not rock, paper or scissors, keep asking until it is."
   ]
  },
  {
   "cell_type": "code",
   "execution_count": 7,
   "metadata": {},
   "outputs": [],
   "source": [
    "def player_move(gestures_list):\n",
    "    \"\"\"get an input for the player move\"\"\"\n",
    "    \n",
    "    print (\"Please enter your move. It has to be either\",', '.join(gestures_list),\":\")\n",
    "    player_gest=0\n",
    "    player_gest = input()\n",
    "    while player_gest not in gestures_list:\n",
    "        print(\"Your choice\",player_gest,\" is invalid.\\nPlease enter your move again. It has to be either\",', '.join(gestures_list),\":\")\n",
    "        player_gest = input()\n",
    "    else:\n",
    "        return player_gest\n",
    "    \n",
    "\n"
   ]
  },
  {
   "cell_type": "markdown",
   "metadata": {},
   "source": [
    "#### 8. Define a function that checks who won a round. \n",
    "The function should return 0 if there is a tie, 1 if the computer wins and 2 if the player wins."
   ]
  },
  {
   "cell_type": "code",
   "execution_count": 8,
   "metadata": {},
   "outputs": [],
   "source": [
    "def round_result(cpu_choice, player_choice):\n",
    "    if cpu_choice==player_choice:\n",
    "        return 0\n",
    "    elif cpu_choice==(\"paper\") and player_choice==(\"rock\"):\n",
    "        return 1\n",
    "    elif cpu_choice==(\"rock\") and player_choice==(\"scissors\"):\n",
    "        return 1\n",
    "    elif cpu_choice==(\"scissors\") and player_choice==(\"paper\"):\n",
    "        return 1    \n",
    "    elif cpu_choice==(\"paper\") and player_choice==(\"scissors\"):\n",
    "        return 2    \n",
    "    elif cpu_choice==(\"rock\") and player_choice==(\"paper\"):\n",
    "        return 2\n",
    "    elif cpu_choice==(\"scissors\") and player_choice==(\"rock\"):\n",
    "        return 2\n",
    "    else:\n",
    "        return \"error\"\n"
   ]
  },
  {
   "cell_type": "markdown",
   "metadata": {},
   "source": [
    "#### 9. Define a function that prints the choice of the computer, the choice of the player and a message that announces who won the current round. \n",
    "You should also use this function to update the variables that count the number of rounds that the computer and the player have won. The score of the winner increases by one point. If there is a tie, the score does not increase."
   ]
  },
  {
   "cell_type": "code",
   "execution_count": 9,
   "metadata": {},
   "outputs": [],
   "source": [
    "rounds_played=0\n",
    "def each_round(cpu_choice, player_choice, cpu_score,player_score,rounds_played):\n",
    "    print(\"CPU choice is\", cpu_choice, \"\\nPlayer choice is\", player_choice)\n",
    "    this_round=round_result(cpu_choice, player_choice)\n",
    "    if this_round==0:\n",
    "        message=[\"No one won this round\"]\n",
    "        rounds_played+=1\n",
    "       \n",
    "    elif this_round==1:\n",
    "        message=[\"The computer won this round\"]\n",
    "        cpu_score+=1\n",
    "        rounds_played+=1\n",
    "    \n",
    "    elif this_round==2:\n",
    "        message=[\"The player won this round\"]\n",
    "        player_score+=1\n",
    "        rounds_played+=1\n",
    "        \n",
    "    else:\n",
    "        print (\"we have a problem\")\n",
    "    return (cpu_score,player_score,rounds_played,message)\n",
    "\n",
    "    \n"
   ]
  },
  {
   "cell_type": "markdown",
   "metadata": {},
   "source": [
    "#### 10. Now it's time to code the execution of the game using the functions and variables you defined above. \n",
    "\n",
    "First, create a loop structure that repeats while no player reaches the minimum score necessary to win and the number of rounds is less than the maximum number of rounds to play in a game.  \n",
    "\n",
    "Inside the loop, use the functions and variables above to create the execution of a round: ask for the player's choice, generate the random choice of the computer, show the round results, update the scores, etc. "
   ]
  },
  {
   "cell_type": "code",
   "execution_count": 10,
   "metadata": {},
   "outputs": [
    {
     "name": "stdout",
     "output_type": "stream",
     "text": [
      "Please enter your move. It has to be either rock, paper, scissors :\n",
      "paper\n",
      "CPU choice is paper \n",
      "Player choice is paper\n",
      "Result for round 1 : No one won this round \n",
      "The CPU score is 0 and the player score is 0 \n",
      "\n",
      "Please enter your move. It has to be either rock, paper, scissors :\n",
      "rock\n",
      "CPU choice is paper \n",
      "Player choice is rock\n",
      "Result for round 2 : The computer won this round \n",
      "The CPU score is 1 and the player score is 0 \n",
      "\n",
      "Please enter your move. It has to be either rock, paper, scissors :\n",
      "paper\n",
      "CPU choice is paper \n",
      "Player choice is paper\n",
      "Result for round 3 : No one won this round \n",
      "The CPU score is 1 and the player score is 0 \n",
      "\n"
     ]
    }
   ],
   "source": [
    "\n",
    "while (player_score<rounds_to_win or cpu_score<rounds_to_win)and (rounds_played<n_rounds):\n",
    "    cpu_choice=cpu_move(gestures)\n",
    "    player_choice=player_move(gestures)\n",
    "    cpu_score,player_score,rounds_played,message=each_round(cpu_choice, player_choice,cpu_score,player_score,rounds_played)\n",
    "\n",
    "    print(\"Result for round\",rounds_played,\":\",','.join(message),\"\\nThe CPU score is\",cpu_score,\"and the player score is\",player_score,\"\\n\")\n",
    "\n",
    "    \n"
   ]
  },
  {
   "cell_type": "markdown",
   "metadata": {},
   "source": [
    "#### 11. Print the winner of the game based on who won more rounds.\n",
    "Remember that the game might be tied. "
   ]
  },
  {
   "cell_type": "code",
   "execution_count": 11,
   "metadata": {},
   "outputs": [
    {
     "name": "stdout",
     "output_type": "stream",
     "text": [
      "CPU is the winner\n"
     ]
    }
   ],
   "source": [
    "if cpu_score>player_score:\n",
    "    print(\"CPU is the winner\")\n",
    "elif cpu_score<player_score:\n",
    "    print(\"Player is the winner\")\n",
    "else:\n",
    "    print(\"There is a tie\")"
   ]
  },
  {
   "cell_type": "markdown",
   "metadata": {},
   "source": [
    "# Bonus: Rock, Paper, Scissors, Lizard & Spock\n",
    "![](images/rpsls.jpg)\n",
    "\n",
    "In this challenge, you need to improve the previous game by adding two new options. To know more about the rules of the improved version of rock, paper, scissors, check this [link](http://www.samkass.com/theories/RPSSL.html). \n",
    "\n",
    "In addition, you will also need to improve how the game interacts with the player: the number of rounds to play, which must be an odd number, will be requested to the user until a valid number is entered. Define a new function to make that request.\n",
    "\n",
    "**Hint**: Try to reuse the code that you already coded in the previous challenge. If your code is efficient, this bonus will only consist of simple modifications to the original game."
   ]
  },
  {
   "cell_type": "code",
   "execution_count": 12,
   "metadata": {},
   "outputs": [
    {
     "name": "stdout",
     "output_type": "stream",
     "text": [
      "Please enter the number of rounds you wish to play. It has to be an odd number\n",
      "4\n",
      "Your choice 4  is invalid.\n",
      "Please enter the number of rounds you wish to play again. It has to be odd\n",
      "5\n",
      "Your choice is 5\n"
     ]
    }
   ],
   "source": [
    "gestures_2=['rock','paper','scissors','lizard','spock']\n",
    "\n",
    "cpu_score=0\n",
    "player_score=0\n",
    "message=0\n",
    "rounds_played=0\n",
    "\n",
    "def choose_n_rounds():\n",
    "    \"\"\"\"ask the player the number of rounds to play, and set it.\"\"\"\n",
    "    print (\"Please enter the number of rounds you wish to play. It has to be an odd number\")\n",
    "    n_rounds=0\n",
    "    n_rounds = input()\n",
    "    n_rounds = int(n_rounds)\n",
    "    while n_rounds %2 == 0:\n",
    "        print(\"Your choice\",n_rounds,\" is invalid.\\nPlease enter the number of rounds you wish to play again. It has to be odd\")\n",
    "        n_rounds = input()\n",
    "        n_rounds = int(n_rounds)\n",
    "    else:\n",
    "        print(\"Your choice is\", n_rounds)\n",
    "        return n_rounds\n",
    "\n",
    "n_rounds=choose_n_rounds()\n",
    "\n",
    "rounds_to_win=(n_rounds+1)/2    \n"
   ]
  },
  {
   "cell_type": "code",
   "execution_count": 13,
   "metadata": {},
   "outputs": [],
   "source": [
    "def cpu_move(gestures_list):\n",
    "    \"\"\"get a random move for the cpu\"\"\"\n",
    "    cpu_gest=choice(gestures_list)\n",
    "    return cpu_gest\n",
    "\n",
    "def player_move(gestures_list):\n",
    "    \"\"\"get an input for the player move\"\"\"\n",
    "    \n",
    "    print (\"Please enter your move. It has to be either\",', '.join(gestures_list),\":\")\n",
    "    player_gest=0\n",
    "    player_gest = input()\n",
    "    while player_gest not in gestures_list:\n",
    "        print(\"Your choice\",player_gest,\" is invalid.\\nPlease enter your move again. It has to be either\",', '.join(gestures_list),\":\")\n",
    "        player_gest = input()\n",
    "    else:\n",
    "        return player_gest\n",
    "    \n",
    "def round_result(cpu_choice, player_choice):\n",
    "    if cpu_choice==player_choice:\n",
    "        return 0\n",
    "    elif cpu_choice==(\"paper\") and player_choice==(\"rock\"):\n",
    "        return 1\n",
    "    elif cpu_choice==(\"paper\") and player_choice==(\"scissors\"):\n",
    "        return 2\n",
    "    elif cpu_choice==(\"paper\") and player_choice==(\"lizard\"):\n",
    "        return 1    \n",
    "    elif cpu_choice==(\"paper\") and player_choice==(\"spock\"):\n",
    "        return 2\n",
    "    elif cpu_choice==(\"rock\") and player_choice==(\"scissors\"):\n",
    "        return 1    \n",
    "    elif cpu_choice==(\"rock\") and player_choice==(\"paper\"):\n",
    "        return 2    \n",
    "    elif cpu_choice==(\"rock\") and player_choice==(\"lizard\"):\n",
    "        return 1\n",
    "    elif cpu_choice==(\"rock\") and player_choice==(\"spock\"):\n",
    "        return 2    \n",
    "    elif cpu_choice==(\"scissors\") and player_choice==(\"paper\"):\n",
    "        return 1 \n",
    "    elif cpu_choice==(\"scissors\") and player_choice==(\"rock\"):\n",
    "        return 2    \n",
    "    elif cpu_choice==(\"scissors\") and player_choice==(\"lizard\"):\n",
    "        return 1\n",
    "    elif cpu_choice==(\"scissors\") and player_choice==(\"spock\"):\n",
    "        return 2\n",
    "    elif cpu_choice==(\"lizard\") and player_choice==(\"paper\"):\n",
    "        return 1\n",
    "    elif cpu_choice==(\"lizard\") and player_choice==(\"rock\"):\n",
    "        return 2\n",
    "    elif cpu_choice==(\"lizard\") and player_choice==(\"scissors\"):\n",
    "        return 2\n",
    "    elif cpu_choice==(\"lizard\") and player_choice==(\"spock\"):\n",
    "        return 1        \n",
    "    elif cpu_choice==(\"spock\") and player_choice==(\"paper\"):\n",
    "        return 2\n",
    "    elif cpu_choice==(\"spock\") and player_choice==(\"rock\"):\n",
    "        return 1\n",
    "    elif cpu_choice==(\"spock\") and player_choice==(\"scissors\"):\n",
    "        return 1\n",
    "    elif cpu_choice==(\"spock\") and player_choice==(\"lizard\"):\n",
    "        return 2\n",
    "    else:\n",
    "        return \"error\"\n",
    "\n",
    "def each_round(cpu_choice, player_choice, cpu_score,player_score,rounds_played):\n",
    "    print(\"CPU choice is\", cpu_choice, \"\\nPlayer choice is\", player_choice)\n",
    "    this_round=round_result(cpu_choice, player_choice)\n",
    "    #print(this_round)\n",
    "    message=[]\n",
    "    if this_round==0:\n",
    "        message=[\"No one won this round\"]\n",
    "        rounds_played+=1\n",
    "       \n",
    "    elif this_round==1:\n",
    "        message=[\"The computer won this round\"]\n",
    "        cpu_score+=1\n",
    "        rounds_played+=1\n",
    "    \n",
    "    elif this_round==2:\n",
    "        message=[\"The player won this round\"]\n",
    "        player_score+=1\n",
    "        rounds_played+=1\n",
    "        \n",
    "    else:\n",
    "        print (\"we have a problem\")\n",
    "    return (cpu_score,player_score,rounds_played,message)\n"
   ]
  },
  {
   "cell_type": "code",
   "execution_count": 14,
   "metadata": {},
   "outputs": [
    {
     "name": "stdout",
     "output_type": "stream",
     "text": [
      "Please enter your move. It has to be either rock, paper, scissors, lizard, spock :\n",
      "spock\n",
      "CPU choice is spock \n",
      "Player choice is spock\n",
      "Result for round 1 : No one won this round \n",
      "The CPU score is 0 and the player score is 0 \n",
      "\n",
      "Please enter your move. It has to be either rock, paper, scissors, lizard, spock :\n",
      "lizard\n",
      "CPU choice is rock \n",
      "Player choice is lizard\n",
      "Result for round 2 : The computer won this round \n",
      "The CPU score is 1 and the player score is 0 \n",
      "\n",
      "Please enter your move. It has to be either rock, paper, scissors, lizard, spock :\n",
      "paper\n",
      "CPU choice is paper \n",
      "Player choice is paper\n",
      "Result for round 3 : No one won this round \n",
      "The CPU score is 1 and the player score is 0 \n",
      "\n",
      "Please enter your move. It has to be either rock, paper, scissors, lizard, spock :\n",
      "paper\n",
      "CPU choice is paper \n",
      "Player choice is paper\n",
      "Result for round 4 : No one won this round \n",
      "The CPU score is 1 and the player score is 0 \n",
      "\n",
      "Please enter your move. It has to be either rock, paper, scissors, lizard, spock :\n",
      "spock\n",
      "CPU choice is lizard \n",
      "Player choice is spock\n",
      "Result for round 5 : The computer won this round \n",
      "The CPU score is 2 and the player score is 0 \n",
      "\n"
     ]
    }
   ],
   "source": [
    "\n",
    "while (player_score<rounds_to_win or cpu_score<rounds_to_win)and (rounds_played<n_rounds):\n",
    "    cpu_choice=cpu_move(gestures_2)\n",
    "    player_choice=player_move(gestures_2)\n",
    "    cpu_score,player_score,rounds_played,message=each_round(cpu_choice, player_choice,cpu_score,player_score,rounds_played)\n",
    "\n",
    "    print(\"Result for round\",rounds_played,\":\",','.join(message),\"\\nThe CPU score is\",cpu_score,\"and the player score is\",player_score,\"\\n\")\n",
    "\n",
    "    "
   ]
  },
  {
   "cell_type": "code",
   "execution_count": 15,
   "metadata": {},
   "outputs": [
    {
     "name": "stdout",
     "output_type": "stream",
     "text": [
      "CPU is the winner\n"
     ]
    }
   ],
   "source": [
    "if cpu_score>player_score:\n",
    "    print(\"CPU is the winner\")\n",
    "elif cpu_score<player_score:\n",
    "    print(\"Player is the winner\")\n",
    "else:\n",
    "    print(\"There is a tie\")"
   ]
  }
 ],
 "metadata": {
  "kernelspec": {
   "display_name": "Python 3",
   "language": "python",
   "name": "python3"
  },
  "language_info": {
   "codemirror_mode": {
    "name": "ipython",
    "version": 3
   },
   "file_extension": ".py",
   "mimetype": "text/x-python",
   "name": "python",
   "nbconvert_exporter": "python",
   "pygments_lexer": "ipython3",
   "version": "3.8.5"
  }
 },
 "nbformat": 4,
 "nbformat_minor": 2
}
